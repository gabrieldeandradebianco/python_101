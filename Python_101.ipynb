{
  "nbformat": 4,
  "nbformat_minor": 0,
  "metadata": {
    "colab": {
      "name": "Python 101.ipynb",
      "provenance": [],
      "collapsed_sections": []
    },
    "kernelspec": {
      "name": "python3",
      "display_name": "Python 3"
    },
    "language_info": {
      "name": "python"
    }
  },
    "cells": [
    {
      "cell_type": "markdown",
      "metadata": {
        "id": "view-in-github",
        "colab_type": "text"
      },
      "source": [
        "<a href=\"https://colab.research.google.com/drive/1__7B3c2LVvhHvtljYA1Aqc7HlAADWtIw?usp=sharing\" target=\"_parent\"><img src=\"https://colab.research.google.com/assets/colab-badge.svg\" alt=\"Open In Colab\"/></a>"
      ]
    },
    "cells": [
    {
      "cell_type": "markdown",
      "metadata": {
        "id": "_Bm92J8cyo38"
      },
      "source": [
        "# **Introdução ao Python**\n",
        "\n",
        "<img src=\"https://github.com/paulokuriki/python_for_rads/blob/master/python.png?raw=true\">"
      ]
    },
    {
      "cell_type": "markdown",
      "metadata": {
        "id": "CDZ2wUiu92zn"
      },
      "source": [
        "\n",
        "\n",
        "---\n",
        "\n"
      ]
    },
    {
      "cell_type": "markdown",
      "metadata": {
        "id": "Pa1YFHG89Lg5"
      },
      "source": [
        "# **Por que aprender Python?**\n",
        "\n",
        "1.   É uma linguagem simples e fácil de aprender.\n",
        "\n",
        "2.   Uma das principais linguagens utilizadas em projetos de IA\n",
        "\n",
        "3.   Tem várias bibliotecas disponíveis para ciências de dados, IA e radiologia\n",
        "\n",
        "4.   Portabilidade: Pode rodar em qualquer sistema operacional"
      ]
    },
    {
      "cell_type": "markdown",
      "metadata": {
        "id": "BwDK3PPaBSZ9"
      },
      "source": [
        "<img src=\"https://github.com/paulokuriki/python_for_rads/blob/master/code.jpg?raw=true\">\n",
        "\n",
        "---"
      ]
    },
    {
      "cell_type": "markdown",
      "metadata": {
        "id": "aIxSDNn6A6fl"
      },
      "source": [
        "# **Como começar?**\n",
        "\n",
        "*   Direto no browser ([**Google Colab**](https://colab.research.google.com/),\n",
        "[**Gradient**](https://gradient.run/notebooks), \n",
        "[**Kaggle**](https://www.kaggle.com) )\n",
        "*   Usando um **Jupyter Notebook** - [anaconda.com](https://www.anaconda.com/products/individual)\n",
        "*   Usando um ambiente de desenvolvimento ([PyCharm](https://www.jetbrains.com/pt-br/pycharm/download/), \n",
        "[Visual Studio](https://visualstudio.microsoft.com/pt-br/vs/features/python/))\n"
      ]
    },
    {
      "cell_type": "markdown",
      "metadata": {
        "id": "kB8bjfWhCpzl"
      },
      "source": [
        "---"
      ]
    },
    {
      "cell_type": "markdown",
      "metadata": {
        "id": "17ncLmE-EAzi"
      },
      "source": [
        "# **Vamos começar!**\n",
        "\n",
        "### **`print()`** exibe na tela as informações passadas:\n",
        "\n",
        "Example: **`print(100)`**"
      ]
    },
    {
      "cell_type": "code",
      "metadata": {
        "id": "QN7j5GWvH9Yw",
        "colab": {
          "base_uri": "https://localhost:8080/"
        },
        "outputId": "ca2b06d8-49c0-4849-c96f-8dcd777f853e"
      },
      "source": [
        "# chama a função print() com o parâmetro 100\n",
        "print(1800)"
      ],
      "execution_count": 3,
      "outputs": [
        {
          "output_type": "stream",
          "name": "stdout",
          "text": [
            "1800\n"
          ]
        }
      ]
    },
    {
      "cell_type": "code",
      "metadata": {
        "id": "aSxnrD4oH9-u",
        "colab": {
          "base_uri": "https://localhost:8080/"
        },
        "outputId": "8951af68-6e02-467f-cb66-46b27a23eb40"
      },
      "source": [
        "# passando uma operação matemática para a função print()\n",
        "print(1000 + 200)"
      ],
      "execution_count": 5,
      "outputs": [
        {
          "output_type": "stream",
          "name": "stdout",
          "text": [
            "1200\n"
          ]
        }
      ]
    },
    {
      "cell_type": "code",
      "source": [
        "a = 10\n",
        "b = 320\n",
        "print( a + b )\n"
      ],
      "metadata": {
        "colab": {
          "base_uri": "https://localhost:8080/"
        },
        "id": "eEN04TzPJr5D",
        "outputId": "1b8121b3-9f0e-4f1e-e272-4b3f7b340037"
      },
      "execution_count": 7,
      "outputs": [
        {
          "output_type": "stream",
          "name": "stdout",
          "text": [
            "330\n"
          ]
        }
      ]
    },
    {
      "cell_type": "markdown",
      "metadata": {
        "id": "NmwPo40KIdSq"
      },
      "source": [
        "# **Variáveis e tipos de dados**\n",
        "\n",
        "### Uma **variável** é um endereço na memória do computador, que tem um nome e um valor.\n",
        "\n",
        "Example: \n",
        "\n",
        "`ano  = 2021`\n",
        "\n",
        "`peso = 80.5`\n",
        "\n",
        "Existem tipos diferentes de variáveis. Exemplos:\n",
        "\n",
        "- Números\n",
        "- Texto (strings)\n",
        "- Sequências (listas, tuples, ...)\n",
        "- Mapeamento (dicionários)"
      ]
    },
    {
      "cell_type": "code",
      "metadata": {
        "id": "PnkqTHIuIZJV",
        "colab": {
          "base_uri": "https://localhost:8080/"
        },
        "outputId": "52540003-2342-4c46-ae53-6cb5ca322e5c"
      },
      "source": [
        "# criando variáveis e definindo os seus valores\n",
        "ano_atual = 2022\n",
        "ano_de_nascimento = 1990\n",
        "\n",
        "# criando uma variável a partir de outras variáveis\n",
        "idade = ano_atual - ano_de_nascimento\n",
        "\n",
        "# mostra a idade calculada\n",
        "print(idade)"
      ],
      "execution_count": 8,
      "outputs": [
        {
          "output_type": "stream",
          "name": "stdout",
          "text": [
            "32\n"
          ]
        }
      ]
    },
    {
      "cell_type": "code",
      "metadata": {
        "id": "MoFPDjjSJOwr",
        "colab": {
          "base_uri": "https://localhost:8080/"
        },
        "outputId": "c2e16bf7-8d2f-4ccf-be4a-2393b4d45904"
      },
      "source": [
        "# criando variáveis de texto (strings)\n",
        "nome = \"Paulo\"\n",
        "sobrenome = 'Kuriki' \n",
        "nome_completo = nome + \" \" + sobrenome\n",
        "\n",
        "print( nome_completo )\n",
        "\n",
        "print( nome, sobrenome, 1 )"
      ],
      "execution_count": 14,
      "outputs": [
        {
          "output_type": "stream",
          "name": "stdout",
          "text": [
            "Paulo Kuriki\n",
            "Paulo Kuriki 1\n"
          ]
        }
      ]
    },
    {
      "cell_type": "markdown",
      "source": [
        "# **Criando novas funções**\n",
        "\n",
        "Para criar uma função nova, usamos a *palavra chave* '**def**':\n",
        "\n",
        "`def nome_da_funcao():`\n",
        "\n",
        "> `código da função`\n",
        "\n",
        "Opcionalmente, a função pode receber parâmetros e também pode retornar um valor:\n",
        "\n",
        "`def soma(parametro_1, parametro_2):`\n",
        "\n",
        "> `resultado = parametro_1 + parametro_2`\n",
        "\n",
        "> `return resultado`"
      ],
      "metadata": {
        "id": "bhx4KyDJMi-p"
      }
    },
    {
      "cell_type": "code",
      "source": [
        "def calcula_idade( ano_atual, ano_de_nascimento ):\n",
        "  idade = ano_atual - ano_de_nascimento\n",
        "  return idade\n",
        "\n",
        "def gera_nome_completo( primeiro_nome, ultimo_nome ):\n",
        "  nome_completo = primeiro_nome + \" \" + ultimo_nome\n",
        "  return nome_completo"
      ],
      "metadata": {
        "id": "RG4TWj2HN2qF"
      },
      "execution_count": 16,
      "outputs": []
    },
    {
      "cell_type": "code",
      "source": [
        "idade = calcula_idade(2022, 2000) \n",
        "nome = gera_nome_completo(\"Gabriel\", \"Bianco\")\n",
        "\n",
        "print(nome)\n",
        "print(idade)\n"
      ],
      "metadata": {
        "colab": {
          "base_uri": "https://localhost:8080/"
        },
        "id": "ACqufYOfOdU8",
        "outputId": "cb45840b-6ee4-4af3-f565-f23035149993"
      },
      "execution_count": 17,
      "outputs": [
        {
          "output_type": "stream",
          "name": "stdout",
          "text": [
            "Gabriel Bianco\n",
            "22\n"
          ]
        }
      ]
    },
    {
      "cell_type": "markdown",
      "metadata": {
        "id": "a-XKLb1aJWyg"
      },
      "source": [
        "# **Expressões condicionais**\n",
        "\n",
        "A partir da expressão **`if`**, podemos verificar condições e executar código somente quando uma condição for satisfeita.\n",
        "\n",
        "Exemplo:\n",
        "\n",
        "`if idade maior que 18 :`\n",
        "\n",
        "> `executa código para maiores de 18`\n",
        "\n",
        "`else:` (opcional)\n",
        "\n",
        "> `executa código para menores de 18`"
      ]
    },
    {
      "cell_type": "code",
      "metadata": {
        "id": "8iZxgEHyJQuJ",
        "colab": {
          "base_uri": "https://localhost:8080/"
        },
        "outputId": "cae2a41c-6214-4555-ef56-a40d2c46018d"
      },
      "source": [
        "ano_atual = 2022\n",
        "ano_de_nascimento = 2010\n",
        "idade = calcula_idade( ano_atual, ano_de_nascimento )\n",
        "\n",
        "if idade >= 18:\n",
        "    print(\"Você é maior de 18 anos.\")\n",
        "else:\n",
        "    print(\"Você é menor de idade. Vai beber leite.\")"
      ],
      "execution_count": 19,
      "outputs": [
        {
          "output_type": "stream",
          "name": "stdout",
          "text": [
            "Você é menor de idade. Vai beber leite.\n"
          ]
        }
      ]
    },
    {
      "cell_type": "markdown",
      "source": [
        "# **Múltiplas condições**\n",
        "\n",
        "Podemos usar uma sequência de expressões **`if`**, **`elif`** e **`else`**.\n",
        "\n",
        "Exemplo:\n",
        "\n",
        "`if condição:`\n",
        "\n",
        "> `executa código`\n",
        "\n",
        "`elif segunda condição:`\n",
        "\n",
        "> `executa código`\n",
        "\n",
        "`elif terceira condição:`\n",
        "\n",
        "> `executa código`\n",
        "\n",
        "`else:`\n",
        "\n",
        "> `executa código`"
      ],
      "metadata": {
        "id": "c1USqLlpStyy"
      }
    },
    {
      "cell_type": "code",
      "source": [
        "ano_de_nascimento = 2004\n",
        "idade = calcula_idade( ano_atual, ano_de_nascimento )\n",
        "if idade > 18:\n",
        "    print(\"Você é maior de 18 anos.\")\n",
        "    print( idade )\n",
        "elif idade == 18:\n",
        "    print(\"Você tem exatamente 18 anos.\")\n",
        "else:\n",
        "    print(\"Você é menor de idade. Vai beber leite.\")\n",
        "\n"
      ],
      "metadata": {
        "colab": {
          "base_uri": "https://localhost:8080/"
        },
        "id": "Mtcs0YndR6sG",
        "outputId": "f882ba07-360f-4f4c-f03d-4476b16fa7c3"
      },
      "execution_count": 21,
      "outputs": [
        {
          "output_type": "stream",
          "name": "stdout",
          "text": [
            "Você tem exatamente 18 anos.\n"
          ]
        }
      ]
    },
    {
      "cell_type": "markdown",
      "metadata": {
        "id": "qH2AAA4DJjXQ"
      },
      "source": [
        "# **Sequências**\n",
        "\n",
        "São conjuntos de dados, cujos itens são agrupados de formas diferentes.\n",
        "\n",
        "Alguns dos tipos de sequências:\n",
        "* `lists` são definidas usando colchetes []\n",
        "* `tuples` são definidos usando parênteses ()\n",
        "* `sets` são definidos usando chaves {}\n",
        "* `dictionaries` são definidos usando chaves {}, com dois pontos separando cada chave e valor. "
      ]
    },
    {
      "cell_type": "code",
      "metadata": {
        "id": "Qywh5h7UJlRa",
        "colab": {
          "base_uri": "https://localhost:8080/"
        },
        "outputId": "77b49ed6-36d5-42a7-ae36-3b472c396965"
      },
      "source": [
        "# lista de tipos de exames \n",
        "exams = [\"Brain MRI\", \"C-Spine MRI\", \"T-Spine MRI\", \"L-Spine MRI\"]\n",
        "print(exams)\n",
        "\n",
        "print( exams[2] )"
      ],
      "execution_count": 24,
      "outputs": [
        {
          "output_type": "stream",
          "name": "stdout",
          "text": [
            "['Brain MRI', 'C-Spine MRI', 'T-Spine MRI', 'L-Spine MRI']\n",
            "T-Spine MRI\n"
          ]
        }
      ]
    },
    {
      "cell_type": "code",
      "source": [
        "# pra acessar um item da lista, usamos nome_da_lista[posição do item]\n",
        "# tentando acessar o último item da lista\n",
        "tamanho = len(exams)\n",
        "#print( exams[-2] )\n",
        "\n",
        "# slicing\n",
        "s = exams[1:]\n",
        "\n",
        "print(s)\n",
        "\n"
      ],
      "metadata": {
        "id": "Pypw8W4oXVm1",
        "colab": {
          "base_uri": "https://localhost:8080/"
        },
        "outputId": "0eb4ceb1-a867-47ae-c5b0-c0143d54f2a7"
      },
      "execution_count": 30,
      "outputs": [
        {
          "output_type": "stream",
          "name": "stdout",
          "text": [
            "['C-Spine MRI', 'T-Spine MRI', 'L-Spine MRI']\n"
          ]
        }
      ]
    },
    {
      "cell_type": "code",
      "source": [
        "# dicionários agrupam pares de chave e valor, separados por dois pontos\n",
        "pacientes = {\n",
        "              \"Gabriel\" : 15,\n",
        "             \"Angélica\" : 20,\n",
        "             \"Nikolai\" : 30 \n",
        "            }\n",
        "\n",
        "print( pacientes[\"Angélica\"] )\n"
      ],
      "metadata": {
        "colab": {
          "base_uri": "https://localhost:8080/"
        },
        "id": "g7HZ6SuXYLGU",
        "outputId": "a4e81004-691b-4f46-f6c0-72ab171e9072"
      },
      "execution_count": 32,
      "outputs": [
        {
          "output_type": "stream",
          "name": "stdout",
          "text": [
            "20\n"
          ]
        }
      ]
    },
    {
      "cell_type": "markdown",
      "metadata": {
        "id": "vGcFJtnUJw36"
      },
      "source": [
        "# **Loops**\n",
        "\n",
        "Loops são usados para repetirmos ações. \n",
        "\n",
        "Os principais tipos são `for` e `while`\n",
        "\n",
        "`for`: Usado para iterarmos por itens de uma lista ou por uma sequência de valores.\n",
        "\n",
        "`while`: Executa o código múltiplas vezes, enquanto uma condição seja verdadeira"
      ]
    },
    {
      "cell_type": "code",
      "metadata": {
        "id": "lsXZFaFhJtwk",
        "colab": {
          "base_uri": "https://localhost:8080/"
        },
        "outputId": "f817a51b-29d5-430a-8e04-ec58c6278883"
      },
      "source": [
        "# iterando pela lista de exames\n",
        "for exam in exams:\n",
        "    print(\"Tipo do exame:\", exam)"
      ],
      "execution_count": 33,
      "outputs": [
        {
          "output_type": "stream",
          "name": "stdout",
          "text": [
            "Tipo do exame: Brain MRI\n",
            "Tipo do exame: C-Spine MRI\n",
            "Tipo do exame: T-Spine MRI\n",
            "Tipo do exame: L-Spine MRI\n"
          ]
        }
      ]
    },
    {
      "cell_type": "code",
      "source": [
        "for i in range(0, 4):\n",
        "  print( exams[i] )"
      ],
      "metadata": {
        "colab": {
          "base_uri": "https://localhost:8080/"
        },
        "id": "Ms-P0pLBcTSo",
        "outputId": "73187797-1a0f-47de-c007-db1c4be974bf"
      },
      "execution_count": 37,
      "outputs": [
        {
          "output_type": "stream",
          "name": "stdout",
          "text": [
            "Brain MRI\n",
            "C-Spine MRI\n",
            "T-Spine MRI\n",
            "L-Spine MRI\n"
          ]
        }
      ]
    },
    {
      "cell_type": "code",
      "metadata": {
        "id": "-zqHB8-IJqiB",
        "colab": {
          "base_uri": "https://localhost:8080/"
        },
        "outputId": "5a472b93-ad67-4c97-b687-b88485f2292b"
      },
      "source": [
        "numero = -5\n",
        "while numero >= 0:\n",
        "    print(\"Contagem:\", numero)\n",
        "    numero = numero - 1\n",
        "\n",
        "print(\"fim\")"
      ],
      "execution_count": 40,
      "outputs": [
        {
          "output_type": "stream",
          "name": "stdout",
          "text": [
            "fim\n"
          ]
        }
      ]
    },
    {
      "cell_type": "code",
      "source": [
        "# cria um dicionario vazio\n",
        "d = {}\n",
        "\n",
        "# insere elementos\n",
        "d[\"Gabriel\"] = 10\n",
        "d[\"Nikolai\"] = 15\n",
        "d[\"Angélica\"] = 20\n",
        "\n",
        "# acessa o elemento no dicionário, a partir de uma chave\n",
        "print( d[\"Gabriel\"] )\n",
        "\n",
        "print( d )\n"
      ],
      "metadata": {
        "colab": {
          "base_uri": "https://localhost:8080/"
        },
        "id": "443B_LaxAwLc",
        "outputId": "3937e5c7-e774-4b73-875b-7157866f1117"
      },
      "execution_count": 41,
      "outputs": [
        {
          "output_type": "stream",
          "name": "stdout",
          "text": [
            "10\n",
            "{'Gabriel': 10, 'Nikolai': 15, 'Angélica': 20}\n"
          ]
        }
      ]
    },
    {
      "cell_type": "code",
      "source": [
        "d = {\n",
        "    \"Gabriel\" : 10,\n",
        "    \"Nikolai\" : 15,\n",
        "    \"Angélica\" : 20,\n",
        "}\n",
        "\n",
        "print( d[\"Gabriel\"] )\n",
        "print( d )"
      ],
      "metadata": {
        "colab": {
          "base_uri": "https://localhost:8080/"
        },
        "id": "kr5nPwbis96h",
        "outputId": "27e0782d-eb3d-4eb1-f6b5-0b1f1f6da86a"
      },
      "execution_count": 42,
      "outputs": [
        {
          "output_type": "stream",
          "name": "stdout",
          "text": [
            "10\n",
            "{'Gabriel': 10, 'Nikolai': 15, 'Angélica': 20}\n"
          ]
        }
      ]
    },
    {
      "cell_type": "code",
      "source": [
        "pacientes = ['Gabriel', 'Nikolai', 'Angélica']\n",
        "idades = [10, 15, 20]\n",
        "idade_por_paciente = {}\n",
        "for i in range( len(pacientes) ):\n",
        "  idade_por_paciente[ pacientes[i] ] = idades[i]\n",
        "\n",
        "print( idade_por_paciente )"
      ],
      "metadata": {
        "colab": {
          "base_uri": "https://localhost:8080/"
        },
        "id": "5qA0ZHZC_g2c",
        "outputId": "5fc1e4c3-d9a2-4fe0-ecb5-dbf82e91f5d3"
      },
      "execution_count": 43,
      "outputs": [
        {
          "output_type": "stream",
          "name": "stdout",
          "text": [
            "{'Gabriel': 10, 'Nikolai': 15, 'Angélica': 20}\n"
          ]
        }
      ]
    },
    {
      "cell_type": "code",
      "source": [
        "d = dict(zip(pacientes, idades))\n",
        "print( d['Gabriel'] )\n",
        "print( d )"
      ],
      "metadata": {
        "colab": {
          "base_uri": "https://localhost:8080/"
        },
        "id": "iCWeL6bC_gwp",
        "outputId": "b2ac2d5c-17c8-41a9-fb1a-70a55484e8b8"
      },
      "execution_count": 44,
      "outputs": [
        {
          "output_type": "stream",
          "name": "stdout",
          "text": [
            "10\n",
            "{'Gabriel': 10, 'Nikolai': 15, 'Angélica': 20}\n"
          ]
        }
      ]
    },
    {
      "cell_type": "code",
      "source": [
        "# cria uma lista vazia\n",
        "lista = []\n",
        "\n",
        "# inserindo elementos no final de uma lista\n",
        "lista.append( 0 )\n",
        "lista.append( 1 )\n",
        "lista.append( 2 )\n",
        "\n",
        "print(lista)\n",
        "print(lista[-1])"
      ],
      "metadata": {
        "colab": {
          "base_uri": "https://localhost:8080/"
        },
        "id": "AbNglcLYBsQR",
        "outputId": "f44ec848-86da-496f-8534-3a90015c510a"
      },
      "execution_count": 45,
      "outputs": [
        {
          "output_type": "stream",
          "name": "stdout",
          "text": [
            "[0, 1, 2]\n",
            "2\n"
          ]
        }
      ]
    },
    {
      "cell_type": "code",
      "source": [
        "# inserindo elementos em uma posição específica de uma lista\n",
        "lista.insert( 1, 3 )\n",
        "\n",
        "print(lista)"
      ],
      "metadata": {
        "colab": {
          "base_uri": "https://localhost:8080/"
        },
        "id": "rZ9ufk72pDft",
        "outputId": "5626b6d9-506f-4c10-f5bf-4213e2c3792a"
      },
      "execution_count": 46,
      "outputs": [
        {
          "output_type": "stream",
          "name": "stdout",
          "text": [
            "[0, 3, 1, 2]\n"
          ]
        }
      ]
    },
    {
      "cell_type": "code",
      "source": [
        "lista.sort()\n",
        "\n",
        "print(lista)"
      ],
      "metadata": {
        "colab": {
          "base_uri": "https://localhost:8080/"
        },
        "id": "U4i8EzAfp-wd",
        "outputId": "710e9bc1-9e46-46e5-d054-dde0215c7695"
      },
      "execution_count": 47,
      "outputs": [
        {
          "output_type": "stream",
          "name": "stdout",
          "text": [
            "[0, 1, 2, 3]\n"
          ]
        }
      ]
    },
    {
      "cell_type": "markdown",
      "source": [
        "# **Operadores matemáticos**\n",
        "\n",
        "Adição: `a = b + c `\n",
        "\n",
        "Subtração: `a = b - c`\n",
        "\n",
        "Multiplicação: `a = b * c`\n",
        "\n",
        "Divisão: `a = b / c`\n",
        "\n",
        "Exponenciação (potência): `a = b ** c`\n",
        "\n",
        "Resto (operação módulo): `a = b % c`\n",
        "\n",
        "Divisão inteira: `a = b // c`\n"
      ],
      "metadata": {
        "id": "DE6qyJykmBKK"
      }
    },
    {
      "cell_type": "code",
      "source": [
        "b, c = 10, 4\n",
        "\n",
        "soma = b + c \n",
        "\n",
        "subt = b - c\n",
        "\n",
        "mult = b * c \n",
        "\n",
        "div = b / c\n",
        "\n",
        "exp = b ** c\n",
        "\n",
        "resto = b % c \n",
        "\n",
        "div_int = b // c\n",
        "\n",
        "print( soma, subt, mult, div )\n",
        "\n",
        "print( exp, resto, div_int )"
      ],
      "metadata": {
        "colab": {
          "base_uri": "https://localhost:8080/"
        },
        "id": "JQrFZqnWl_3g",
        "outputId": "c030c0ee-18db-4167-fa14-70f18a1a580b"
      },
      "execution_count": 48,
      "outputs": [
        {
          "output_type": "stream",
          "name": "stdout",
          "text": [
            "14 6 40 2.5\n",
            "10000 2 2\n"
          ]
        }
      ]
    },
    {
      "cell_type": "markdown",
      "source": [
        "# **Importando bibliotecas / módulos**\n",
        "\n",
        "Usando a palavra chave `import`\n",
        "\n",
        "`import math`: Importa a biblioteca 'math'\n",
        "\n",
        "`import pandas as pd`: Importa a biblioteca 'pandas' e dá um apelido para ela"
      ],
      "metadata": {
        "id": "IHDNw_x_yO7D"
      }
    },
    {
      "cell_type": "code",
      "source": [
        "import math\n",
        "import pandas as pd\n",
        "import numpy as np\n",
        "\n",
        "raiz = math.sqrt( 811 )\n",
        "print( raiz )"
      ],
      "metadata": {
        "colab": {
          "base_uri": "https://localhost:8080/"
        },
        "id": "OaBboZaLyExX",
        "outputId": "934203bc-1cc7-41e1-ce1a-f1c05c8995dd"
      },
      "execution_count": 51,
      "outputs": [
        {
          "output_type": "stream",
          "name": "stdout",
          "text": [
            "28.478061731796284\n"
          ]
        }
      ]
    },
    {
      "cell_type": "code",
      "source": [
        "# gera dez números aleatórios entre 0.0 e 1.0\n",
        "rng = np.random.default_rng(0)\n",
        "x = rng.random(2) * 10\n",
        "print( x )"
      ],
      "metadata": {
        "colab": {
          "base_uri": "https://localhost:8080/"
        },
        "id": "-eeOtVJ0z9bL",
        "outputId": "74026821-ccc8-4a0a-bebe-13717eaa9670"
      },
      "execution_count": 54,
      "outputs": [
        {
          "output_type": "stream",
          "name": "stdout",
          "text": [
            "[6.36961687 2.69786714]\n"
          ]
        }
      ]
    },
    {
      "cell_type": "markdown",
      "metadata": {
        "id": "ldeXw6MYlwuL"
      },
      "source": [
        "# **Referências**\n",
        "\n",
        "Notebook baseado em:\n",
        "\n",
        "https://github.com/paulokuriki/python_for_rads/\n",
        "\n",
        "---\n",
        "Sites recomendados:\n",
        "\n",
        "https://www.codecademy.com/learn/learn-python-3\n",
        "\n",
        "https://realpython.com/start-here/\n",
        "\n",
        "https://www.learnpython.org/\n",
        "\n",
        "https://docs.python.org/3/tutorial/"
      ]
    }
  ]
}
